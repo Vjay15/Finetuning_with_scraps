{
 "cells": [
  {
   "cell_type": "markdown",
   "id": "5f995882",
   "metadata": {},
   "source": [
    "# Fine Tuning OpenAI model"
   ]
  },
  {
   "cell_type": "markdown",
   "id": "620c49f5",
   "metadata": {},
   "source": [
    "### Importing Libraries and configuration"
   ]
  },
  {
   "cell_type": "code",
   "execution_count": 22,
   "id": "502ae8eb",
   "metadata": {},
   "outputs": [
    {
     "name": "stdout",
     "output_type": "stream",
     "text": [
      "All configuration loaded\n"
     ]
    }
   ],
   "source": [
    "import os \n",
    "from openai import OpenAI \n",
    "from dotenv import load_dotenv\n",
    "import json\n",
    "from time import sleep\n",
    "load_dotenv(\"../apikey.env\")\n",
    "#Set up OpenAI API client\n",
    "client = OpenAI(api_key=os.getenv(\"OPENAI_API_KEY\"))\n",
    "print(\"All configuration loaded\")"
   ]
  },
  {
   "cell_type": "markdown",
   "id": "9cd1820f",
   "metadata": {},
   "source": [
    "### To list out files present in the OpenAI API"
   ]
  },
  {
   "cell_type": "code",
   "execution_count": 3,
   "id": "969b26d2",
   "metadata": {},
   "outputs": [
    {
     "name": "stdout",
     "output_type": "stream",
     "text": [
      "File ID: file-JRDufToYrzP5ctcpeMtshh, File Name: data_eval_openai_v2.jsonl, File Purpose: fine-tune\n",
      "File ID: file-2QLGfsoobRG7Kue3zeTQDU, File Name: data_training_openai_v2.jsonl, File Purpose: fine-tune\n",
      "File ID: file-KZDxqUrJsrZhRLetWPGB5F, File Name: step_metrics.csv, File Purpose: fine-tune-results\n",
      "File ID: file-MJDTLXTPf6QAmxQ5WZ7dXi, File Name: data_eval_openai.jsonl, File Purpose: fine-tune\n",
      "File ID: file-823bMAAvCHFVPdWjWX2ta1, File Name: data_training_openai.jsonl, File Purpose: fine-tune\n"
     ]
    }
   ],
   "source": [
    "files = client.files.list()\n",
    "# Print the list of files\n",
    "for file in files.data[0:5]:\n",
    "    print(f\"File ID: {file.id}, File Name: {file.filename}, File Purpose: {file.purpose}\")"
   ]
  },
  {
   "cell_type": "markdown",
   "id": "c47cad6a",
   "metadata": {},
   "source": [
    "### Deleting Files "
   ]
  },
  {
   "cell_type": "code",
   "execution_count": 39,
   "id": "bc834d1f",
   "metadata": {},
   "outputs": [
    {
     "name": "stdout",
     "output_type": "stream",
     "text": [
      "Deleted training file with ID: file-XtLAPa32S1wiFteeJnGpHt\n",
      "Deleted validation file with ID: file-9LHN5VeXZisbio9VDbDTb5\n"
     ]
    }
   ],
   "source": [
    "# To delete files that were previously uploaded\n",
    "json_file_path = \"file_id.json\"\n",
    "if os.path.exists(json_file_path):\n",
    "    with open(json_file_path, 'r') as file:\n",
    "        file_ids = json.load(file)\n",
    "        if not file_ids:\n",
    "            print(\"No file IDs found in the JSON file.\")\n",
    "    training_file_id = file_ids.get(\"training_file_id\")\n",
    "    validation_file_id = file_ids.get(\"validation_file_id\")\n",
    "    \n",
    "    if training_file_id:\n",
    "        client.files.delete(training_file_id)\n",
    "        print(f\"Deleted training file with ID: {training_file_id}\")\n",
    "    \n",
    "    if validation_file_id:\n",
    "        client.files.delete(validation_file_id)\n",
    "        print(f\"Deleted validation file with ID: {validation_file_id}\")\n",
    "    with open(\"file_id.json\", 'w') as file:\n",
    "        json.dump({\"training_file_id\":None, \"validation_file_id\":None}, file)\n",
    "else:\n",
    "    print(f\"JSON file {json_file_path} does not exist. No files to delete.\")"
   ]
  },
  {
   "cell_type": "markdown",
   "id": "b9c59b8a",
   "metadata": {},
   "source": [
    "### Uploading Files"
   ]
  },
  {
   "cell_type": "code",
   "execution_count": null,
   "id": "a61a33b0",
   "metadata": {},
   "outputs": [
    {
     "name": "stdout",
     "output_type": "stream",
     "text": [
      "Files uploaded successfully, Processing...\n",
      "✅ Training file processed successfully! (ID: file-2QLGfsoobRG7Kue3zeTQDU)       \n",
      "✅ Validation file processed successfully! (ID: file-JRDufToYrzP5ctcpeMtshh)     \n",
      "Both files processed successfully!\n",
      "File IDs saved to file_id.json\n"
     ]
    }
   ],
   "source": [
    "# Upload files\n",
    "training_file_name = \"data_training_openai.jsonl\"\n",
    "validation_file_name = \"data_eval_openai.jsonl\"\n",
    "\n",
    "training_file_id = client.files.create(\n",
    "  file=open(training_file_name, \"rb\"),\n",
    "  purpose=\"fine-tune\"\n",
    ")\n",
    "\n",
    "validation_file_id = client.files.create(\n",
    "  file=open(validation_file_name, \"rb\"),\n",
    "  purpose=\"fine-tune\"\n",
    ")\n",
    "\n",
    "print(\"Files uploaded successfully, Processing...\")\n",
    "\n",
    "def wait_for_file_processing(file_id, file_type):\n",
    "    while True:\n",
    "        file = client.files.retrieve(file_id)\n",
    "        \n",
    "        if file.status == \"processed\":\n",
    "            print(f\"\\r{' ' * 80}\", end='')  # Clear the line\n",
    "            print(f\"\\r✅ {file_type} file processed successfully! (ID: {file.id})\")\n",
    "            return file\n",
    "        elif file.status == \"error\":\n",
    "            print(f\"\\r{' ' * 80}\", end='')  # Clear the line\n",
    "            print(f\"\\r❌ {file_type} file processing failed!\")\n",
    "            return None\n",
    "        else:\n",
    "            print(f\"\\r⏳ {file_type} file status: {file.status}, waiting...\", end='', flush=True)\n",
    "            sleep(5)\n",
    "\n",
    "# Wait for both files to be processed\n",
    "training_file = wait_for_file_processing(training_file_id.id, \"Training\")\n",
    "validation_file = wait_for_file_processing(validation_file_id.id, \"Validation\")\n",
    "\n",
    "if training_file and validation_file:\n",
    "    print(\"Both files processed successfully!\")\n",
    "    \n",
    "    # Save the file IDs to a JSON file\n",
    "    file_ids = {\"training_file_id\": training_file_id.id, \"validation_file_id\": validation_file_id.id}\n",
    "    with open(\"file_id.json\", \"w\") as file:\n",
    "        json.dump(file_ids, file)\n",
    "        print(\"File IDs saved to file_id.json\")\n",
    "else:\n",
    "    print(\"File processing failed!\")"
   ]
  },
  {
   "cell_type": "markdown",
   "id": "939145f2",
   "metadata": {},
   "source": [
    "### Accessing Previously uploaded files"
   ]
  },
  {
   "cell_type": "code",
   "execution_count": 4,
   "id": "67a2fa4b",
   "metadata": {},
   "outputs": [
    {
     "name": "stdout",
     "output_type": "stream",
     "text": [
      "Training File ID: file-2QLGfsoobRG7Kue3zeTQDU\n",
      "Validation File ID: file-JRDufToYrzP5ctcpeMtshh\n",
      "Training File Status: processed\n",
      "Validation File Status: processed\n"
     ]
    }
   ],
   "source": [
    "json_file_path = \"file_id.json\"\n",
    "if os.path.exists(json_file_path):\n",
    "    with open(json_file_path, 'r') as file:\n",
    "        file_ids = json.load(file)\n",
    "        if not file_ids:\n",
    "            print(\"No file IDs found in the JSON file.\")\n",
    "    \n",
    "    training_file_id = file_ids.get(\"training_file_id\")\n",
    "    validation_file_id = file_ids.get(\"validation_file_id\")\n",
    "    if not training_file_id or not validation_file_id:\n",
    "        print(\"Training or validation file ID is missing in the JSON file.\")\n",
    "    else:\n",
    "        try:\n",
    "            training_file = client.files.retrieve(training_file_id) \n",
    "            validation_file = client.files.retrieve(validation_file_id)\n",
    "        \n",
    "            print(f\"Training File ID: {training_file.id}\")\n",
    "            print(f\"Validation File ID: {validation_file.id}\")\n",
    "            print(f\"Training File Status: {training_file.status}\")\n",
    "            print(f\"Validation File Status: {validation_file.status}\")\n",
    "        except Exception as e:\n",
    "            print(f\"An error occurred while retrieving file status:\")\n",
    "            print(\"Response Error Code:\", e.response.status_code)\n",
    "            print(\"Response Error Message:\", e.response.text)\n",
    "else:\n",
    "    print(f\"JSON file {json_file_path} does not exist. No files to retrieve.\")"
   ]
  },
  {
   "cell_type": "markdown",
   "id": "da36210e",
   "metadata": {},
   "source": [
    "### Creating Fine Tuning job"
   ]
  },
  {
   "cell_type": "code",
   "execution_count": 5,
   "id": "8dccd5c2",
   "metadata": {},
   "outputs": [
    {
     "name": "stdout",
     "output_type": "stream",
     "text": [
      "Fine-tuning job created with ID: ftjob-XvGo1qSBi20m0vpLTMR5HkdC\n",
      "✅ Fine-tuning completed successfully!                                                               \n",
      "Fine-tuned model: ft:gpt-4.1-mini-2025-04-14:greatify::BrMVNxDG\n",
      "Total time elapsed: 00:23:34\n"
     ]
    }
   ],
   "source": [
    "from time import sleep, time\n",
    "\n",
    "response = client.fine_tuning.jobs.create(\n",
    "    training_file=training_file.id,\n",
    "    validation_file=validation_file.id,\n",
    "    model=\"gpt-4.1-mini-2025-04-14\",\n",
    "    hyperparameters={\n",
    "        \"n_epochs\": 4,\n",
    "        \"batch_size\": 1,\n",
    "        \"learning_rate_multiplier\": 0.1\n",
    "    }\n",
    ")\n",
    "\n",
    "job_id = response.id\n",
    "print(f\"Fine-tuning job created with ID: {job_id}\")\n",
    "\n",
    "start_time = time()\n",
    "\n",
    "def format_elapsed_time(elapsed_seconds):\n",
    "    hours = int(elapsed_seconds // 3600)\n",
    "    minutes = int((elapsed_seconds % 3600) // 60)\n",
    "    seconds = int(elapsed_seconds % 60)\n",
    "    return f\"{hours:02d}:{minutes:02d}:{seconds:02d}\"\n",
    "\n",
    "while True:\n",
    "    response = client.fine_tuning.jobs.retrieve(job_id)\n",
    "    status = response.status\n",
    "    \n",
    "    elapsed_time = time() - start_time\n",
    "    time_str = format_elapsed_time(elapsed_time)\n",
    "\n",
    "    if status == \"succeeded\":\n",
    "        print(f\"\\r{' ' * 100}\", end='')  # Clear the line\n",
    "        print(f\"\\r✅ Fine-tuning completed successfully!\")\n",
    "        print(f\"Fine-tuned model: {response.fine_tuned_model}\")\n",
    "        print(f\"Total time elapsed: {time_str}\")\n",
    "        break\n",
    "    elif status == \"failed\":\n",
    "        print(f\"\\r{' ' * 100}\", end='')  # Clear the line\n",
    "        print(f\"\\r❌ Fine-tuning failed.\")\n",
    "        print(f\"Time elapsed: {time_str}\")\n",
    "        break\n",
    "    elif status == \"cancelled\":\n",
    "        print(f\"\\r{' ' * 100}\", end='')  # Clear the line\n",
    "        print(f\"\\r❌ Fine-tuning was cancelled.\")\n",
    "        print(f\"Time elapsed: {time_str}\")\n",
    "        break\n",
    "    else:\n",
    "        print(f\"\\r⏳ Fine-tuning in progress... Status: {status} | Elapsed: {time_str}\", end='', flush=True)\n",
    "        sleep(10)"
   ]
  },
  {
   "cell_type": "markdown",
   "id": "324d1f9f",
   "metadata": {},
   "source": [
    "### Cancelling a Job"
   ]
  },
  {
   "cell_type": "code",
   "execution_count": 30,
   "id": "593e5d6c",
   "metadata": {},
   "outputs": [
    {
     "name": "stdout",
     "output_type": "stream",
     "text": [
      "Fine-tuning job with ID ftjob-Lmd1QZYnleDuEDr7ZGlJHgZP has been cancelled.\n"
     ]
    }
   ],
   "source": [
    "# Cancel the fine-tuning job\n",
    "cancel_response = client.fine_tuning.jobs.cancel(job_id)\n",
    "print(f\"Fine-tuning job with ID {job_id} has been cancelled.\")"
   ]
  },
  {
   "cell_type": "markdown",
   "id": "54b47492",
   "metadata": {},
   "source": [
    "### Getting Job Details"
   ]
  },
  {
   "cell_type": "code",
   "execution_count": 6,
   "id": "84f8dc31",
   "metadata": {},
   "outputs": [
    {
     "name": "stdout",
     "output_type": "stream",
     "text": [
      "Job ID: ftjob-XvGo1qSBi20m0vpLTMR5HkdC\n",
      "Fine-tuning completed successfully!\n",
      "Fine-tuned model: ft:gpt-4.1-mini-2025-04-14:greatify::BrMVNxDG\n"
     ]
    }
   ],
   "source": [
    "# Get detailed job information including error details\n",
    "response = client.fine_tuning.jobs.retrieve(job_id)\n",
    "print(f\"Job ID: {response.id}\")\n",
    "\n",
    "if response.status == \"failed\":\n",
    "    print(\"Fine-tuning failed.\")\n",
    "    if response.error:\n",
    "        print(f\"Error code: {response.error.code}\")\n",
    "        print(f\"Error message: {response.error.message}\")\n",
    "    else:\n",
    "        print(\"No specific error details available.\")\n",
    "elif response.status == \"succeeded\":\n",
    "    print(\"Fine-tuning completed successfully!\")\n",
    "    print(f\"Fine-tuned model: {response.fine_tuned_model}\")\n",
    "    fine_tuned_model = response.fine_tuned_model\n",
    "elif response.status == \"cancelled\":\n",
    "    print(\"Fine-tuning was cancelled.\")\n",
    "else:\n",
    "    print(f\"Job status: {response.status}\")"
   ]
  },
  {
   "cell_type": "markdown",
   "id": "8f2ad01f",
   "metadata": {},
   "source": [
    "### Specifics of the complete Fine Tuning Job"
   ]
  },
  {
   "cell_type": "code",
   "execution_count": 9,
   "id": "3abce06e",
   "metadata": {},
   "outputs": [
    {
     "name": "stdout",
     "output_type": "stream",
     "text": [
      "Fine-tuned Model ID   : ft:gpt-4.1-mini-2025-04-14:greatify::BrMVNxDG\n",
      "Base Model            : gpt-4.1-mini-2025-04-14\n",
      "Status                : succeeded\n",
      "Training File ID      : file-2QLGfsoobRG7Kue3zeTQDU\n",
      "Validation File ID    : file-JRDufToYrzP5ctcpeMtshh\n",
      "Number of Epochs      : 4\n",
      "Batch Size            : 1\n",
      "Learning Rate Mult.   : 0.1\n",
      "Created At            : 2025-07-09 15:57:05\n",
      "Completed At          : 2025-07-09 16:09:51\n"
     ]
    }
   ],
   "source": [
    "\n",
    "from datetime import datetime\n",
    "print(f\"Fine-tuned Model ID   : {response.fine_tuned_model}\")\n",
    "print(f\"Base Model            : {response.model}\")\n",
    "print(f\"Status                : {response.status}\")\n",
    "print(f\"Training File ID      : {response.training_file}\")\n",
    "print(f\"Validation File ID    : {response.validation_file}\")\n",
    "print(f\"Number of Epochs      : {response.hyperparameters.n_epochs}\")\n",
    "print(f\"Batch Size            : {response.hyperparameters.batch_size}\")\n",
    "print(f\"Learning Rate Mult.   : {response.hyperparameters.learning_rate_multiplier}\")\n",
    "print(f\"Created At            : {datetime.fromtimestamp(response.created_at).strftime('%Y-%m-%d %H:%M:%S')}\")\n",
    "print(f\"Completed At          : {datetime.fromtimestamp(response.finished_at).strftime('%Y-%m-%d %H:%M:%S')}\")"
   ]
  },
  {
   "cell_type": "markdown",
   "id": "c10fa5a4",
   "metadata": {},
   "source": [
    "### Inferencing the Fine Tuned Model"
   ]
  },
  {
   "cell_type": "code",
   "execution_count": 31,
   "id": "90260a57",
   "metadata": {},
   "outputs": [
    {
     "name": "stdout",
     "output_type": "stream",
     "text": [
      "{\"Score\": \"1/2\", \"Explanation\": \"The answer lacks formal content and misses key points like affordability, decongestion, or infrastructure development, which are expected in a hard-level answer.\", \"Feedback\": \"Explain how suburbs create planned communities or reduce pressure on city services using technical language and examples.\"}\n"
     ]
    }
   ],
   "source": [
    "import json\n",
    "\n",
    "message_data =  {\n",
    "    \"question\": \"How does development of suburbs helps to solve the problem of housing in metropolitan cities?\",\n",
    "    \"marks\": 2,\n",
    "    \"rubric\": \"Rubrics not provided\",\n",
    "    \"answer\": \"Suburbs are built outside cities, and they help with housing because people can live there instead of in the crowded main city. It is more peaceful and less crowded, so people like it. This helps solve the problem of space in the city.\",\n",
    "    \"difficulty\": \"hard\"\n",
    "}\n",
    "message_content = json.dumps(message_data)\n",
    "\n",
    "response = client.chat.completions.create(\n",
    "    model=\"ft:gpt-4.1-mini-2025-04-14:greatify::BrMVNxDG\",\n",
    "    messages=[\n",
    "        {\n",
    "            \"role\": \"system\", \n",
    "            \"content\": \"You are an expert answer evaluator. Your job is to evaluate student answers fairly based on a flexible rubric and the specified difficulty level.\\n\\nInstructions:\\n1. Return the score out of the total marks under the \\\"Score\\\" key.\\n2. Give a brief explanation justifying the score, referencing key points from the rubric under the \\\"Explanation\\\" key.\\n3. Suggest at least one specific way the student can improve their answer quality or overall academic performance as feedback.\\n4. Use the rubric as a guideline, not a rigid checklist and if Rubric is not provided, then use your very own rubrics.\\n5. Adjust the strictness of grading based on difficulty:\\n   - 'easy' → lenient evaluation; minor issues can be overlooked.\\n   - 'medium' → balanced and reasonable evaluation.\\n   - 'hard' → stricter evaluation; all points must be well explained and accurate.\"\n",
    "        },\n",
    "        {\n",
    "            \"role\": \"user\", \n",
    "            \"content\": message_content\n",
    "        }\n",
    "    ]\n",
    ")\n",
    "print(response.choices[0].message.content)"
   ]
  }
 ],
 "metadata": {
  "kernelspec": {
   "display_name": "Python 3",
   "language": "python",
   "name": "python3"
  },
  "language_info": {
   "codemirror_mode": {
    "name": "ipython",
    "version": 3
   },
   "file_extension": ".py",
   "mimetype": "text/x-python",
   "name": "python",
   "nbconvert_exporter": "python",
   "pygments_lexer": "ipython3",
   "version": "3.13.5"
  }
 },
 "nbformat": 4,
 "nbformat_minor": 5
}
